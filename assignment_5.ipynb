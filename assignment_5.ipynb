{
 "cells": [
  {
   "cell_type": "markdown",
   "id": "45a93210",
   "metadata": {},
   "source": [
    "## 1. What does an empty dictionary&#39;s code look like?"
   ]
  },
  {
   "cell_type": "code",
   "execution_count": null,
   "id": "e351f419",
   "metadata": {},
   "outputs": [],
   "source": [
    "empty_dict={}"
   ]
  },
  {
   "cell_type": "markdown",
   "id": "9d297247",
   "metadata": {},
   "source": [
    "## 2. What is the value of a dictionary value with the key &#39;foo&#39; and the value 42?"
   ]
  },
  {
   "cell_type": "code",
   "execution_count": null,
   "id": "6c2a17a5",
   "metadata": {},
   "outputs": [],
   "source": [
    "my_dict={'foo':42}"
   ]
  },
  {
   "cell_type": "markdown",
   "id": "3b155930",
   "metadata": {},
   "source": [
    "## 3. What is the most significant distinction between a dictionary and a list?"
   ]
  },
  {
   "cell_type": "markdown",
   "id": "350adc1c",
   "metadata": {},
   "source": [
    "#Dictionaries:\n",
    "1.Dictionaries are used to store data values in key:value pairs.\n",
    "\n",
    "2.A dictionary is a collection which is ordered, changeable and do not allow duplicates.\n",
    "\n",
    "3.Dictionary items are presented in key:value pairs, and can be referred to by using the key name.\n",
    "\n",
    "----------------------------------------------------------------------------------------\n",
    "\n",
    "#List:\n",
    "1.Lists are used to store multiple items in a single variable.\n",
    "\n",
    "2.List items are ordered, changeable, and allow duplicate values.\n",
    "\n",
    "3.List items are indexed, the first item has index [0], the second item has index [1] etc."
   ]
  },
  {
   "cell_type": "markdown",
   "id": "28d5fcfb",
   "metadata": {},
   "source": [
    "## 4. What happens if you try to access spam[&#39;foo&#39;] if spam is {&#39;bar&#39;: 100}?"
   ]
  },
  {
   "cell_type": "code",
   "execution_count": 1,
   "id": "8164ded3",
   "metadata": {},
   "outputs": [
    {
     "ename": "KeyError",
     "evalue": "'foo'",
     "output_type": "error",
     "traceback": [
      "\u001b[1;31m---------------------------------------------------------------------------\u001b[0m",
      "\u001b[1;31mKeyError\u001b[0m                                  Traceback (most recent call last)",
      "\u001b[1;32m~\\AppData\\Local\\Temp/ipykernel_3696/1717283131.py\u001b[0m in \u001b[0;36m<module>\u001b[1;34m\u001b[0m\n\u001b[0;32m      1\u001b[0m \u001b[0mspam\u001b[0m\u001b[1;33m=\u001b[0m\u001b[1;33m{\u001b[0m\u001b[1;34m'bar'\u001b[0m\u001b[1;33m:\u001b[0m\u001b[1;36m100\u001b[0m\u001b[1;33m}\u001b[0m\u001b[1;33m\u001b[0m\u001b[1;33m\u001b[0m\u001b[0m\n\u001b[1;32m----> 2\u001b[1;33m \u001b[0mspam\u001b[0m\u001b[1;33m[\u001b[0m\u001b[1;34m'foo'\u001b[0m\u001b[1;33m]\u001b[0m\u001b[1;33m\u001b[0m\u001b[1;33m\u001b[0m\u001b[0m\n\u001b[0m",
      "\u001b[1;31mKeyError\u001b[0m: 'foo'"
     ]
    }
   ],
   "source": [
    "spam={'bar':100}\n",
    "spam['foo']"
   ]
  },
  {
   "cell_type": "code",
   "execution_count": null,
   "id": "46d65f5e",
   "metadata": {},
   "outputs": [],
   "source": [
    "It gives key error "
   ]
  },
  {
   "cell_type": "markdown",
   "id": "a1eeb6d1",
   "metadata": {},
   "source": [
    "## 5. If a dictionary is stored in spam, what is the difference between the expressions &#39;cat&#39; in spam and &#39;cat&#39; in spam.keys()?"
   ]
  },
  {
   "cell_type": "markdown",
   "id": "f98662c5",
   "metadata": {},
   "source": [
    "if the spam has the key 'cat' so expression 'cat' in spam will give the value of the key 'cat' and'cat' in spam.keys() will give the keys of spam dictionary."
   ]
  },
  {
   "cell_type": "markdown",
   "id": "ee309a95",
   "metadata": {},
   "source": [
    "## 6. If a dictionary is stored in spam, what is the difference between the expressions &#39;cat&#39; in spam and &#39;cat&#39; in spam.values()?"
   ]
  },
  {
   "cell_type": "markdown",
   "id": "1fee3ed5",
   "metadata": {},
   "source": [
    "if a dictionary is stored in spam and if 'cat' is the key so expression 'cat' is the spam will give the value of the key 'cat'.And 'cat' in spam.values() gives the value of the entire spam dictionary"
   ]
  },
  {
   "cell_type": "markdown",
   "id": "b08e6797",
   "metadata": {},
   "source": [
    "## 7. What is a shortcut for the following code?\n",
    "\n",
    "\n",
    "if &#39;color&#39; not in spam:\n",
    "\n",
    "spam[&#39;color&#39;] = &#39;black&#39;"
   ]
  },
  {
   "cell_type": "code",
   "execution_count": 3,
   "id": "2a60f3e6",
   "metadata": {},
   "outputs": [
    {
     "data": {
      "text/plain": [
       "'black'"
      ]
     },
     "execution_count": 3,
     "metadata": {},
     "output_type": "execute_result"
    }
   ],
   "source": [
    "spam.setdefault ('color','black')"
   ]
  },
  {
   "cell_type": "markdown",
   "id": "f26f8b67",
   "metadata": {},
   "source": [
    "## 8. How do you &quot;pretty print&quot; dictionary values using which module and function?"
   ]
  },
  {
   "cell_type": "code",
   "execution_count": 2,
   "id": "4e508e6a",
   "metadata": {},
   "outputs": [
    {
     "name": "stdout",
     "output_type": "stream",
     "text": [
      "[   ['spam', 'eggs', 'lumberjack', 'knights', 'ni'],\n",
      "    'spam',\n",
      "    'eggs',\n",
      "    'lumberjack',\n",
      "    'knights',\n",
      "    'ni']\n"
     ]
    }
   ],
   "source": [
    "import pprint\n",
    "\n",
    "stuff = ['spam', 'eggs', 'lumberjack', 'knights', 'ni']\n",
    "\n",
    "stuff.insert(0, stuff[:])\n",
    "\n",
    "pp = pprint.PrettyPrinter(indent=4)\n",
    "\n",
    "pp.pprint(stuff)"
   ]
  },
  {
   "cell_type": "code",
   "execution_count": null,
   "id": "0d9de9e9",
   "metadata": {},
   "outputs": [],
   "source": []
  }
 ],
 "metadata": {
  "kernelspec": {
   "display_name": "Python 3 (ipykernel)",
   "language": "python",
   "name": "python3"
  },
  "language_info": {
   "codemirror_mode": {
    "name": "ipython",
    "version": 3
   },
   "file_extension": ".py",
   "mimetype": "text/x-python",
   "name": "python",
   "nbconvert_exporter": "python",
   "pygments_lexer": "ipython3",
   "version": "3.9.7"
  }
 },
 "nbformat": 4,
 "nbformat_minor": 5
}
